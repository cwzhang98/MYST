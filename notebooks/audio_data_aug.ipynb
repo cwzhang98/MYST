{
 "cells": [
  {
   "cell_type": "code",
   "execution_count": 8,
   "id": "initial_id",
   "metadata": {
    "ExecuteTime": {
     "end_time": "2024-03-25T12:06:17.644058Z",
     "start_time": "2024-03-25T12:06:17.636481Z"
    }
   },
   "outputs": [
    {
     "name": "stdout",
     "output_type": "stream",
     "text": [
      "1\n"
     ]
    }
   ],
   "source": [
    "import torch\n",
    "import torchaudio\n",
    "import torchaudio.transforms as T\n",
    "from torch import nn\n",
    "from fairseq.data.audio.audio_utils import parse_path\n",
    "import csv\n",
    "from tqdm import tqdm\n",
    "cuda = torch.device(\"cuda\")\n",
    "print(torch.cuda.device_count())"
   ]
  },
  {
   "cell_type": "code",
   "execution_count": 9,
   "id": "71e52b0bd1f418a3",
   "metadata": {
    "ExecuteTime": {
     "end_time": "2024-03-25T12:06:18.787402Z",
     "start_time": "2024-03-25T12:06:18.774543Z"
    }
   },
   "outputs": [],
   "source": [
    "class AudioPerturbationPipeline(nn.Module):\n",
    "    PITCH_SHIFT = [-1, 0, 1]\n",
    "    BACKGROUND_NOISE = [5, 10, 20, 50, 100]\n",
    "    TIME_STRETCH = [0.8, 0.9, 1.1, 1.2]\n",
    "\n",
    "    def __init__(self, pitch_idx, noise_idx, stretch_idx, sample_rate=16000):\n",
    "        super().__init__()\n",
    "        self.pitch_idx = pitch_idx\n",
    "        self.noise_idx = noise_idx\n",
    "        self.stretch_idx = stretch_idx\n",
    "        self.stretch_rate = self.TIME_STRETCH[self.stretch_idx]\n",
    "        self.shift = T.PitchShift(sample_rate, self.PITCH_SHIFT[self.pitch_idx]).cuda(0)\n",
    "        self.snr = self.BACKGROUND_NOISE[self.noise_idx]\n",
    "        self.stretch = T.TimeStretch(fixed_rate=self.stretch_rate, n_freq=257)\n",
    "        self.spectrogram = T.Spectrogram(n_fft=512, power=None)\n",
    "        self.invert = T.InverseSpectrogram(n_fft=512)\n",
    "\n",
    "    def forward(self, waveform):\n",
    "        #  改变音高\n",
    "        if self.PITCH_SHIFT[self.pitch_idx] != 0:\n",
    "            self.shift = self.shift.cuda()\n",
    "            waveform = self.shift(waveform)\n",
    "        # 添加高斯噪声\n",
    "        if self.snr != 100:\n",
    "            noise = torch.randn(waveform.size()).cuda()\n",
    "            scale = torch.sqrt(torch.mean(waveform ** 2)) / (torch.sqrt(torch.mean(noise ** 2)) * 10 ** (self.snr / 10)).cuda()\n",
    "            waveform = waveform + scale * noise\n",
    "        # 频谱增强\n",
    "        self.spectrogram = self.spectrogram.cuda()\n",
    "        self.stretch = self.stretch.cuda()\n",
    "        self.invert = self.invert.cuda()\n",
    "        spec = self.spectrogram(waveform)\n",
    "        spec = self.stretch(spec, self.stretch_rate)\n",
    "        waveform = self.invert(spec)\n",
    "        return waveform"
   ]
  },
  {
   "cell_type": "code",
   "execution_count": 10,
   "id": "a1e91c0b8b79de42",
   "metadata": {
    "ExecuteTime": {
     "end_time": "2024-03-25T12:06:20.787130Z",
     "start_time": "2024-03-25T12:06:20.783220Z"
    }
   },
   "outputs": [],
   "source": [
    "torch.manual_seed(4396)\n",
    "torch.cuda.manual_seed_all(4396)\n",
    "tsv_path = \"/home4/cwzhang98/dataset/mustc/en-de/train_st.tsv\"\n",
    "aug_tsv_path = \"/home4/cwzhang98/dataset/mustc/en-de/train_st_aug.tsv\"\n",
    "aug_dir = \"/home4/cwzhang98/dataset/mustc/en-de/data_aug\""
   ]
  },
  {
   "cell_type": "markdown",
   "source": [],
   "metadata": {
    "collapsed": false
   },
   "id": "9b04c113c12a41cc"
  },
  {
   "cell_type": "code",
   "execution_count": null,
   "id": "44bbf5ee0d752185",
   "metadata": {
    "ExecuteTime": {
     "end_time": "2024-03-25T12:15:02.220120Z",
     "start_time": "2024-03-25T12:06:36.735420Z"
    }
   },
   "outputs": [
    {
     "name": "stderr",
     "output_type": "stream",
     "text": [
      "222566it [5:33:29, 15.57it/s]"
     ]
    }
   ],
   "source": [
    "# 读tsv\n",
    "with open(tsv_path) as f:\n",
    "    reader = csv.DictReader(f, delimiter=\"\\t\", quotechar=None,\n",
    "                            doublequote=False, lineterminator=\"\\n\",\n",
    "                            quoting=csv.QUOTE_NONE)\n",
    "    samples = [dict(e) for e in reader]\n",
    "\n",
    "for i, sample in tqdm(enumerate(samples)):\n",
    "    # load audio\n",
    "    _path, slice_ptr = parse_path(samples[i][\"audio\"])\n",
    "    waveform, sample_rate = torchaudio.load(_path, slice_ptr[0], slice_ptr[1])\n",
    "    # augment audio\n",
    "    pitch = torch.randint(low=0, high=3, size=(1,))\n",
    "    noise = torch.randint(low=0, high=5, size=(1,))\n",
    "    stretch = torch.randint(low=0, high=4, size=(1,))\n",
    "    pitch, noise, stretch = pitch.item(), noise.item(), stretch.item()\n",
    "    perturb = AudioPerturbationPipeline(pitch, noise, stretch)\n",
    "    waveform = waveform.cuda()\n",
    "    waveform_aug = perturb(waveform)\n",
    "    # save audio\n",
    "    torchaudio.save(aug_dir + f\"/aug_{i}.wav\", waveform_aug.cpu(), sample_rate)\n",
    "    # write dict\n",
    "    samples[i][\"pitch\"], samples[i][\"noise\"] = pitch, noise\n",
    "    samples[i][\"audio_aug\"] = aug_dir + f\"/aug_{i}.wav\""
   ]
  },
  {
   "cell_type": "code",
   "execution_count": null,
   "id": "740f0b3cc2ed5ec2",
   "metadata": {
    "ExecuteTime": {
     "end_time": "2024-03-25T10:47:02.193636Z",
     "start_time": "2024-03-25T10:47:01.746385Z"
    }
   },
   "outputs": [],
   "source": [
    "import pandas as pd\n",
    "MANIFEST_COLUMNS = [\"id\", \"audio\", \"n_frames\", \"speaker\", \"tgt_text\", \"src_text\", \"src_lang\", \"tgt_lang\", \"audio_aug\", \"pitch\", \"noise\"]\n",
    "manifest = {c: [] for c in MANIFEST_COLUMNS}\n",
    "for sample in samples:\n",
    "    for col in MANIFEST_COLUMNS:\n",
    "        manifest[col].append(sample.get(col, \"\"))\n",
    "df = pd.DataFrame.from_dict(manifest)\n",
    "df.to_csv(\n",
    "    aug_tsv_path,\n",
    "    sep=\"\\t\",\n",
    "    header=True,\n",
    "    index=False,\n",
    "    encoding=\"utf-8\",\n",
    "    escapechar=\"\\\\\",\n",
    "    quoting=csv.QUOTE_NONE,\n",
    ")"
   ]
  },
  {
   "cell_type": "code",
   "execution_count": null,
   "id": "330577b3",
   "metadata": {},
   "outputs": [],
   "source": []
  }
 ],
 "metadata": {
  "kernelspec": {
   "display_name": "st",
   "language": "python",
   "name": "st"
  },
  "language_info": {
   "codemirror_mode": {
    "name": "ipython",
    "version": 3
   },
   "file_extension": ".py",
   "mimetype": "text/x-python",
   "name": "python",
   "nbconvert_exporter": "python",
   "pygments_lexer": "ipython3",
   "version": "3.9.18"
  }
 },
 "nbformat": 4,
 "nbformat_minor": 5
}
