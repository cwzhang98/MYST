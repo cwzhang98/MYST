{
 "cells": [
  {
   "cell_type": "code",
   "execution_count": 9,
   "id": "415f8edc-01a1-4f02-919a-747097a30b1e",
   "metadata": {
    "ExecuteTime": {
     "end_time": "2024-03-26T07:41:25.129425Z",
     "start_time": "2024-03-26T07:41:22.730737Z"
    }
   },
   "outputs": [],
   "source": [
    "import csv\n",
    "import pandas as pd\n",
    "tsv_path = \"/home2/cwzhang98/dataset/mustc/en-de/train_st_aug.tsv\"\n",
    "with open(tsv_path) as f:\n",
    "    reader = csv.DictReader(f, delimiter=\"\\t\", quotechar=None,\n",
    "                            doublequote=False, lineterminator=\"\\n\",\n",
    "                            quoting=csv.QUOTE_NONE)\n",
    "    samples = [dict(e) for e in reader]"
   ]
  },
  {
   "cell_type": "code",
   "execution_count": 11,
   "outputs": [
    {
     "name": "stdout",
     "output_type": "stream",
     "text": [
      "{'id': 'ted_1_101', 'audio': '/home2/cwzhang98/dataset/mustc/en-de/data/train/wav/ted_1.wav:14436320:65760', 'n_frames': '65760', 'speaker': 'spk.1', 'tgt_text': 'Wir sollten die Erderwärmung umbenennen, wie viele von Ihnen vorgeschlagen haben.', 'src_text': \"Let's re-brand global warming, as many of you have suggested.\", 'src_lang': 'en', 'tgt_lang': 'de', 'audio_aug': '/home2/cwzhang98/dataset/mustc/en-de/data_aug/aug_100.wav', 'pitch': '0', 'noise': '4'}\n"
     ]
    }
   ],
   "source": [
    "print(samples[100])"
   ],
   "metadata": {
    "collapsed": false,
    "ExecuteTime": {
     "end_time": "2024-03-26T07:41:38.608157Z",
     "start_time": "2024-03-26T07:41:38.601840Z"
    }
   },
   "id": "fdc509e74ec310a4"
  },
  {
   "cell_type": "code",
   "execution_count": 8,
   "id": "0bbad48f",
   "metadata": {
    "ExecuteTime": {
     "end_time": "2024-03-26T07:41:00.433762Z",
     "start_time": "2024-03-26T07:40:57.557986Z"
    }
   },
   "outputs": [],
   "source": [
    "MANIFEST_COLUMNS = [\"id\", \"audio\", \"n_frames\", \"speaker\", \"tgt_text\", \"src_text\", \"src_lang\", \"tgt_lang\", \"audio_aug\", \"pitch\", \"noise\"]\n",
    "manifest = {c: [] for c in MANIFEST_COLUMNS}\n",
    "for sample in samples:\n",
    "    for col in MANIFEST_COLUMNS:\n",
    "        if col == \"audio\" or col == \"audio_aug\":\n",
    "            val = sample.get(col, \"\")\n",
    "            val = val.replace(\"home4\", \"home2\")\n",
    "            manifest[col].append(val)\n",
    "        else:\n",
    "            manifest[col].append(sample.get(col, \"\"))\n",
    "df = pd.DataFrame.from_dict(manifest)\n",
    "df.to_csv(\n",
    "    tsv_path,\n",
    "    sep=\"\\t\",\n",
    "    header=True,\n",
    "    index=False,\n",
    "    encoding=\"utf-8\",\n",
    "    escapechar=\"\\\\\",\n",
    "    quoting=csv.QUOTE_NONE,\n",
    ")"
   ]
  },
  {
   "cell_type": "code",
   "execution_count": null,
   "outputs": [],
   "source": [],
   "metadata": {
    "collapsed": false
   },
   "id": "8bb022f26ce78b8f"
  }
 ],
 "metadata": {
  "kernelspec": {
   "display_name": "ST",
   "language": "python",
   "name": "st"
  },
  "language_info": {
   "codemirror_mode": {
    "name": "ipython",
    "version": 3
   },
   "file_extension": ".py",
   "mimetype": "text/x-python",
   "name": "python",
   "nbconvert_exporter": "python",
   "pygments_lexer": "ipython3",
   "version": "3.9.18"
  }
 },
 "nbformat": 4,
 "nbformat_minor": 5
}
