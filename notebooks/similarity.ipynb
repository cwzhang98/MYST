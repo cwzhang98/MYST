{
 "cells": [
  {
   "cell_type": "code",
   "execution_count": 1,
   "id": "initial_id",
   "metadata": {
    "collapsed": true,
    "ExecuteTime": {
     "end_time": "2024-03-20T15:04:47.268055Z",
     "start_time": "2024-03-20T15:04:44.601823Z"
    }
   },
   "outputs": [
    {
     "name": "stderr",
     "output_type": "stream",
     "text": [
      "/home2/cwzhang98/anaconda3/envs/st/lib/python3.9/site-packages/tqdm/auto.py:21: TqdmWarning: IProgress not found. Please update jupyter and ipywidgets. See https://ipywidgets.readthedocs.io/en/stable/user_install.html\n",
      "  from .autonotebook import tqdm as notebook_tqdm\n"
     ]
    }
   ],
   "source": [
    "import torch\n",
    "import numpy as np\n",
    "from fairseq.logging import progress_bar\n",
    "from fairseq import options, tasks, utils\n",
    "from argparse import Namespace\n",
    "from fairseq.dataclass.utils import convert_namespace_to_omegaconf\n",
    "from fairseq.models.speech_to_text.s2t_transformer_with_cif_contrast import S2TTransformerWithCifContrast as model\n",
    "from fairseq.models.speech_to_text.s2t_transformer_with_cif_contrast import S2TTransformerWithCifContrastConfig"
   ]
  },
  {
   "cell_type": "code",
   "execution_count": 27,
   "outputs": [
    {
     "name": "stderr",
     "output_type": "stream",
     "text": [
      "2024-02-26 12:53:21 | INFO | fairseq.tasks.speech_to_text_cif_muti_contrast | joint dict size: 10000\n"
     ]
    },
    {
     "name": "stdout",
     "output_type": "stream",
     "text": [
      "{'_name': None, 'common': {'_name': None, 'no_progress_bar': False, 'log_interval': 100, 'log_format': None, 'log_file': None, 'aim_repo': None, 'aim_run_hash': None, 'tensorboard_logdir': None, 'wandb_project': None, 'azureml_logging': False, 'seed': 1, 'cpu': False, 'tpu': False, 'bf16': False, 'memory_efficient_bf16': False, 'fp16': False, 'memory_efficient_fp16': False, 'fp16_no_flatten_grads': False, 'fp16_init_scale': 128, 'fp16_scale_window': None, 'fp16_scale_tolerance': 0.0, 'on_cpu_convert_precision': False, 'min_loss_scale': 0.0001, 'threshold_loss_scale': None, 'amp': False, 'amp_batch_retries': 2, 'amp_init_scale': 128, 'amp_scale_window': None, 'user_dir': None, 'empty_cache_freq': 0, 'all_gather_list_size': 16384, 'model_parallel_size': 1, 'quantization_config_path': None, 'profile': False, 'reset_logging': False, 'suppress_crashes': False, 'use_plasma_view': False, 'plasma_path': '/tmp/plasma'}, 'common_eval': {'_name': None, 'path': None, 'post_process': None, 'quiet': False, 'model_overrides': '{}', 'results_path': None}, 'distributed_training': {'_name': None, 'distributed_world_size': 1, 'distributed_num_procs': 4, 'distributed_rank': 0, 'distributed_backend': 'nccl', 'distributed_init_method': None, 'distributed_port': -1, 'device_id': 0, 'distributed_no_spawn': False, 'ddp_backend': 'pytorch_ddp', 'ddp_comm_hook': 'none', 'bucket_cap_mb': 25, 'fix_batches_to_gpus': False, 'find_unused_parameters': False, 'gradient_as_bucket_view': False, 'fast_stat_sync': False, 'heartbeat_timeout': -1, 'broadcast_buffers': False, 'slowmo_momentum': None, 'slowmo_base_algorithm': 'localsgd', 'localsgd_frequency': 3, 'nprocs_per_node': 4, 'pipeline_model_parallel': False, 'pipeline_balance': None, 'pipeline_devices': None, 'pipeline_chunks': 0, 'pipeline_encoder_balance': None, 'pipeline_encoder_devices': None, 'pipeline_decoder_balance': None, 'pipeline_decoder_devices': None, 'pipeline_checkpoint': 'never', 'zero_sharding': 'none', 'fp16': False, 'memory_efficient_fp16': False, 'tpu': False, 'no_reshard_after_forward': False, 'fp32_reduce_scatter': False, 'cpu_offload': False, 'use_sharded_state': False, 'not_fsdp_flatten_parameters': False}, 'dataset': {'_name': None, 'num_workers': 1, 'skip_invalid_size_inputs_valid_test': False, 'max_tokens': 4000000, 'batch_size': None, 'required_batch_size_multiple': 8, 'required_seq_len_multiple': 1, 'dataset_impl': None, 'data_buffer_size': 10, 'train_subset': 'train', 'valid_subset': 'valid', 'combine_valid_subsets': None, 'ignore_unused_valid_subsets': False, 'validate_interval': 1, 'validate_interval_updates': 0, 'validate_after_updates': 0, 'fixed_validation_seed': None, 'disable_validation': False, 'max_tokens_valid': 4000000, 'batch_size_valid': None, 'max_valid_steps': None, 'curriculum': 0, 'gen_subset': 'tst-COMMON_st', 'num_shards': 1, 'shard_id': 0, 'grouped_shuffling': False, 'update_epoch_batch_itr': False, 'update_ordered_indices_seed': False}, 'optimization': {'_name': None, 'max_epoch': 0, 'max_update': 0, 'stop_time_hours': 0.0, 'clip_norm': 0.0, 'sentence_avg': False, 'update_freq': [1], 'lr': [0.25], 'stop_min_lr': -1.0, 'use_bmuf': False, 'skip_remainder_batch': False, 'debug_param_names': False}, 'checkpoint': {'_name': None, 'save_dir': 'checkpoints', 'restore_file': 'checkpoint_last.pt', 'continue_once': None, 'finetune_from_model': None, 'reset_dataloader': False, 'reset_lr_scheduler': False, 'reset_meters': False, 'reset_optimizer': False, 'optimizer_overrides': '{}', 'save_interval': 1, 'save_interval_updates': 0, 'keep_interval_updates': -1, 'keep_interval_updates_pattern': -1, 'keep_last_epochs': -1, 'keep_best_checkpoints': -1, 'no_save': False, 'no_epoch_checkpoints': False, 'no_last_checkpoints': False, 'no_save_optimizer_state': False, 'best_checkpoint_metric': 'loss', 'maximize_best_checkpoint_metric': False, 'patience': -1, 'checkpoint_suffix': '', 'checkpoint_shard_count': 1, 'load_checkpoint_on_all_dp_ranks': False, 'write_checkpoints_asynchronously': False, 'model_parallel_size': 1}, 'bmuf': {'_name': None, 'block_lr': 1.0, 'block_momentum': 0.875, 'global_sync_iter': 50, 'warmup_iterations': 500, 'use_nbm': False, 'average_sync': False, 'distributed_world_size': 1}, 'generation': {'_name': None, 'beam': 5, 'beam_mt': 0, 'nbest': 1, 'max_len_a': 0.0, 'max_len_b': 200, 'max_len_a_mt': 0.0, 'max_len_b_mt': 200, 'min_len': 1, 'match_source_len': False, 'unnormalized': False, 'no_early_stop': False, 'no_beamable_mm': False, 'lenpen': 1.0, 'lenpen_mt': 1.0, 'unkpen': 0.0, 'replace_unk': None, 'sacrebleu': False, 'score_reference': False, 'prefix_size': 0, 'no_repeat_ngram_size': 0, 'sampling': False, 'sampling_topk': -1, 'sampling_topp': -1.0, 'constraints': None, 'temperature': 1.0, 'diverse_beam_groups': -1, 'diverse_beam_strength': 0.5, 'diversity_rate': -1.0, 'print_alignment': None, 'print_step': False, 'lm_path': None, 'lm_weight': 0.0, 'iter_decode_eos_penalty': 0.0, 'iter_decode_max_iter': 10, 'iter_decode_force_max_iter': False, 'iter_decode_with_beam': 1, 'iter_decode_with_external_reranker': False, 'retain_iter_history': False, 'retain_dropout': False, 'retain_dropout_modules': None, 'decoding_format': None, 'no_seed_provided': False, 'eos_token': None}, 'eval_lm': {'_name': None, 'output_word_probs': False, 'output_word_stats': False, 'context_window': 0, 'softmax_batch': 9223372036854775807}, 'interactive': {'_name': None, 'buffer_size': 0, 'input': '-'}, 'model': None, 'task': {'_name': 'speech_to_text_cif_muti_contrast', 'data': '/home2/cwzhang98/dataset/mustc', 'use_joint_dict': True, 'config_yaml': '/home2/cwzhang98/dataset/mustc/en-de/config_st.yaml', 'max_audio_tokens': 1000000, 'max_text_tokens': 4000, 'max_audio_positions': 1000000, 'max_source_positions': 4000000, 'max_target_positions': 1024, 'lang_pairs': 'en-de', 'lang_prefix_tok': '<lang:de>', 'external_mt_data': None, 'text_data_sample_ratio': 1.0, 'eval_bleu': True, 'eval_bleu_detok': 'space', 'eval_bleu_detok_args': None, 'eval_tokenized_bleu': False, 'eval_bleu_bpe': None, 'eval_bleu_remove_bpe': None, 'eval_bleu_args': None, 'eval_bleu_print_samples': True, 'seed': 1, 'rebuild_batches': True}, 'criterion': {'_name': 'cross_entropy', 'sentence_avg': True}, 'optimizer': None, 'lr_scheduler': {'_name': 'fixed', 'force_anneal': None, 'lr_shrink': 0.1, 'warmup_updates': 0, 'lr': [0.25]}, 'scoring': {'_name': 'bleu', 'pad': 1, 'eos': 2, 'unk': 3}, 'bpe': None, 'tokenizer': None, 'ema': {'_name': None, 'store_ema': False, 'ema_decay': 0.9999, 'ema_start_update': 0, 'ema_seed_model': None, 'ema_update_freq': 1, 'ema_fp32': False}, 'simul_type': None}\n"
     ]
    }
   ],
   "source": [
    "parser = options.get_generation_parser()\n",
    "cfg = options.parse_args_and_arch(parser, input_args=[\n",
    "    '/home2/cwzhang98/dataset/mustc',\n",
    "    '--gen-subset', 'tst-COMMON_st',\n",
    "    '--task', 'speech_to_text_cif_muti_contrast',\n",
    "    '--max-tokens', '4000000',\n",
    "    '--max-source-positions', '4000000',\n",
    "    '--config-yaml', '/home2/cwzhang98/dataset/mustc/en-de/config_st.yaml',\n",
    "    '--use-joint-dict'\n",
    "])\n",
    "if isinstance(cfg, Namespace):\n",
    "    cfg = convert_namespace_to_omegaconf(cfg)\n",
    "print(cfg)\n",
    "task = tasks.setup_task(cfg.task)\n",
    "tgt_dict = task.target_dictionary"
   ],
   "metadata": {
    "collapsed": false,
    "ExecuteTime": {
     "end_time": "2024-02-26T12:53:41.366599Z",
     "start_time": "2024-02-26T12:53:39.701288Z"
    }
   },
   "id": "cd087d6b01dc0a3"
  },
  {
   "cell_type": "code",
   "execution_count": 28,
   "outputs": [
    {
     "name": "stderr",
     "output_type": "stream",
     "text": [
      "2024-02-26 12:53:21 | INFO | fairseq.tasks.speech_to_text_cif_muti_contrast | pre-tokenizer: {'tokenizer': None}\n",
      "2024-02-26 12:53:21 | INFO | fairseq.tasks.speech_to_text_cif_muti_contrast | tokenizer: {'bpe': 'sentencepiece', 'sentencepiece_model': '/home2/cwzhang98/dataset/mustc/en-de/spm_unigram_10000_st.model'}\n",
      "2024-02-26 12:53:22 | INFO | fairseq.data.audio.speech_to_text_dataset | 'tst-COMMON_st' has 0.00% OOV\n",
      "2024-02-26 12:53:22 | INFO | fairseq.data.audio.speech_to_text_dataset | SpeechTextTripleDataset(split=\"tst-COMMON_st\", n_samples=2_587, prepend_tgt_lang_tag=True, n_frames_per_step=1, shuffle=False, feature_transforms=None, waveform_transforms=None, dataset_transforms=CompositeAudioDatasetTransform(\n",
      "))\n"
     ]
    }
   ],
   "source": [
    "task.load_dataset(cfg.dataset.gen_subset)\n",
    "ckpt_path = '/home2/cwzhang98/project/MYST/checkpoint/_checkpoint46.pt'\n",
    "ckpt = torch.load(ckpt_path)"
   ],
   "metadata": {
    "collapsed": false,
    "ExecuteTime": {
     "end_time": "2024-02-26T12:53:43.423414Z",
     "start_time": "2024-02-26T12:53:41.366755Z"
    }
   },
   "id": "23325a4f544a28bf"
  },
  {
   "cell_type": "markdown",
   "source": [],
   "metadata": {
    "collapsed": false
   },
   "id": "fa1915b45a674396"
  },
  {
   "cell_type": "code",
   "execution_count": 29,
   "outputs": [
    {
     "data": {
      "text/plain": "<All keys matched successfully>"
     },
     "execution_count": 29,
     "metadata": {},
     "output_type": "execute_result"
    }
   ],
   "source": [
    "model_args = S2TTransformerWithCifContrastConfig(**ckpt['cfg']['model'])\n",
    "st_model = model.build_model(model_args, task)\n",
    "st_model.load_state_dict(ckpt[\"model\"], strict=True)"
   ],
   "metadata": {
    "collapsed": false,
    "ExecuteTime": {
     "end_time": "2024-02-26T12:53:46.389273Z",
     "start_time": "2024-02-26T12:53:43.423340Z"
    }
   },
   "id": "7fe075028fafd3c"
  },
  {
   "cell_type": "code",
   "execution_count": 30,
   "outputs": [
    {
     "name": "stderr",
     "output_type": "stream",
     "text": [
      "2024-02-26 12:53:26 | INFO | fairseq.tasks.fairseq_task | can_reuse_epoch_itr = True\n",
      "2024-02-26 12:53:26 | INFO | fairseq.tasks.fairseq_task | reuse_dataloader = True\n",
      "2024-02-26 12:53:26 | INFO | fairseq.tasks.fairseq_task | rebuild_batches = True\n",
      "2024-02-26 12:53:26 | INFO | fairseq.tasks.fairseq_task | batches will be rebuilt for each epoch\n",
      "2024-02-26 12:53:26 | INFO | fairseq.tasks.fairseq_task | creating new batches for epoch 1\n"
     ]
    },
    {
     "data": {
      "text/plain": "S2TTransformerWithCifContrast(\n  (encoder): S2TTransformerWithCifContrastEncoder(\n    (embed_tokens): Embedding(10000, 512, padding_idx=1)\n    (dropout_module): FairseqDropout()\n    (w2v_model): Wav2VecCtc(\n      (w2v_encoder): Wav2VecEncoder(\n        (w2v_model): Wav2Vec2Model(\n          (feature_extractor): ConvFeatureExtractionModel(\n            (conv_layers): ModuleList(\n              (0): Sequential(\n                (0): Conv1d(1, 512, kernel_size=(10,), stride=(5,), bias=False)\n                (1): Dropout(p=0.0, inplace=False)\n                (2): Fp32GroupNorm(512, 512, eps=1e-05, affine=True)\n                (3): GELU(approximate='none')\n              )\n              (1): Sequential(\n                (0): Conv1d(512, 512, kernel_size=(3,), stride=(2,), bias=False)\n                (1): Dropout(p=0.0, inplace=False)\n                (2): GELU(approximate='none')\n              )\n              (2): Sequential(\n                (0): Conv1d(512, 512, kernel_size=(3,), stride=(2,), bias=False)\n                (1): Dropout(p=0.0, inplace=False)\n                (2): GELU(approximate='none')\n              )\n              (3): Sequential(\n                (0): Conv1d(512, 512, kernel_size=(3,), stride=(2,), bias=False)\n                (1): Dropout(p=0.0, inplace=False)\n                (2): GELU(approximate='none')\n              )\n              (4): Sequential(\n                (0): Conv1d(512, 512, kernel_size=(3,), stride=(2,), bias=False)\n                (1): Dropout(p=0.0, inplace=False)\n                (2): GELU(approximate='none')\n              )\n              (5): Sequential(\n                (0): Conv1d(512, 512, kernel_size=(2,), stride=(2,), bias=False)\n                (1): Dropout(p=0.0, inplace=False)\n                (2): GELU(approximate='none')\n              )\n              (6): Sequential(\n                (0): Conv1d(512, 512, kernel_size=(2,), stride=(2,), bias=False)\n                (1): Dropout(p=0.0, inplace=False)\n                (2): GELU(approximate='none')\n              )\n            )\n          )\n          (post_extract_proj): Linear(in_features=512, out_features=768, bias=True)\n          (dropout_input): Dropout(p=0.0, inplace=False)\n          (dropout_features): Dropout(p=0.1, inplace=False)\n          (quantizer): None\n          (project_q): None\n          (encoder): TransformerEncoder(\n            (pos_conv): Sequential(\n              (0): Conv1d(768, 768, kernel_size=(128,), stride=(1,), padding=(64,), groups=16)\n              (1): SamePad()\n              (2): GELU(approximate='none')\n            )\n            (layers): ModuleList(\n              (0): TransformerSentenceEncoderLayer(\n                (self_attn): MultiheadAttention(\n                  (dropout_module): FairseqDropout()\n                  (k_proj): Linear(in_features=768, out_features=768, bias=True)\n                  (v_proj): Linear(in_features=768, out_features=768, bias=True)\n                  (q_proj): Linear(in_features=768, out_features=768, bias=True)\n                  (out_proj): Linear(in_features=768, out_features=768, bias=True)\n                )\n                (dropout1): Dropout(p=0.1, inplace=False)\n                (dropout2): Dropout(p=0.0, inplace=False)\n                (dropout3): Dropout(p=0.1, inplace=False)\n                (self_attn_layer_norm): LayerNorm((768,), eps=1e-05, elementwise_affine=True)\n                (fc1): Linear(in_features=768, out_features=3072, bias=True)\n                (fc2): Linear(in_features=3072, out_features=768, bias=True)\n                (final_layer_norm): LayerNorm((768,), eps=1e-05, elementwise_affine=True)\n              )\n              (1): TransformerSentenceEncoderLayer(\n                (self_attn): MultiheadAttention(\n                  (dropout_module): FairseqDropout()\n                  (k_proj): Linear(in_features=768, out_features=768, bias=True)\n                  (v_proj): Linear(in_features=768, out_features=768, bias=True)\n                  (q_proj): Linear(in_features=768, out_features=768, bias=True)\n                  (out_proj): Linear(in_features=768, out_features=768, bias=True)\n                )\n                (dropout1): Dropout(p=0.1, inplace=False)\n                (dropout2): Dropout(p=0.0, inplace=False)\n                (dropout3): Dropout(p=0.1, inplace=False)\n                (self_attn_layer_norm): LayerNorm((768,), eps=1e-05, elementwise_affine=True)\n                (fc1): Linear(in_features=768, out_features=3072, bias=True)\n                (fc2): Linear(in_features=3072, out_features=768, bias=True)\n                (final_layer_norm): LayerNorm((768,), eps=1e-05, elementwise_affine=True)\n              )\n              (2): TransformerSentenceEncoderLayer(\n                (self_attn): MultiheadAttention(\n                  (dropout_module): FairseqDropout()\n                  (k_proj): Linear(in_features=768, out_features=768, bias=True)\n                  (v_proj): Linear(in_features=768, out_features=768, bias=True)\n                  (q_proj): Linear(in_features=768, out_features=768, bias=True)\n                  (out_proj): Linear(in_features=768, out_features=768, bias=True)\n                )\n                (dropout1): Dropout(p=0.1, inplace=False)\n                (dropout2): Dropout(p=0.0, inplace=False)\n                (dropout3): Dropout(p=0.1, inplace=False)\n                (self_attn_layer_norm): LayerNorm((768,), eps=1e-05, elementwise_affine=True)\n                (fc1): Linear(in_features=768, out_features=3072, bias=True)\n                (fc2): Linear(in_features=3072, out_features=768, bias=True)\n                (final_layer_norm): LayerNorm((768,), eps=1e-05, elementwise_affine=True)\n              )\n              (3): TransformerSentenceEncoderLayer(\n                (self_attn): MultiheadAttention(\n                  (dropout_module): FairseqDropout()\n                  (k_proj): Linear(in_features=768, out_features=768, bias=True)\n                  (v_proj): Linear(in_features=768, out_features=768, bias=True)\n                  (q_proj): Linear(in_features=768, out_features=768, bias=True)\n                  (out_proj): Linear(in_features=768, out_features=768, bias=True)\n                )\n                (dropout1): Dropout(p=0.1, inplace=False)\n                (dropout2): Dropout(p=0.0, inplace=False)\n                (dropout3): Dropout(p=0.1, inplace=False)\n                (self_attn_layer_norm): LayerNorm((768,), eps=1e-05, elementwise_affine=True)\n                (fc1): Linear(in_features=768, out_features=3072, bias=True)\n                (fc2): Linear(in_features=3072, out_features=768, bias=True)\n                (final_layer_norm): LayerNorm((768,), eps=1e-05, elementwise_affine=True)\n              )\n              (4): TransformerSentenceEncoderLayer(\n                (self_attn): MultiheadAttention(\n                  (dropout_module): FairseqDropout()\n                  (k_proj): Linear(in_features=768, out_features=768, bias=True)\n                  (v_proj): Linear(in_features=768, out_features=768, bias=True)\n                  (q_proj): Linear(in_features=768, out_features=768, bias=True)\n                  (out_proj): Linear(in_features=768, out_features=768, bias=True)\n                )\n                (dropout1): Dropout(p=0.1, inplace=False)\n                (dropout2): Dropout(p=0.0, inplace=False)\n                (dropout3): Dropout(p=0.1, inplace=False)\n                (self_attn_layer_norm): LayerNorm((768,), eps=1e-05, elementwise_affine=True)\n                (fc1): Linear(in_features=768, out_features=3072, bias=True)\n                (fc2): Linear(in_features=3072, out_features=768, bias=True)\n                (final_layer_norm): LayerNorm((768,), eps=1e-05, elementwise_affine=True)\n              )\n              (5): TransformerSentenceEncoderLayer(\n                (self_attn): MultiheadAttention(\n                  (dropout_module): FairseqDropout()\n                  (k_proj): Linear(in_features=768, out_features=768, bias=True)\n                  (v_proj): Linear(in_features=768, out_features=768, bias=True)\n                  (q_proj): Linear(in_features=768, out_features=768, bias=True)\n                  (out_proj): Linear(in_features=768, out_features=768, bias=True)\n                )\n                (dropout1): Dropout(p=0.1, inplace=False)\n                (dropout2): Dropout(p=0.0, inplace=False)\n                (dropout3): Dropout(p=0.1, inplace=False)\n                (self_attn_layer_norm): LayerNorm((768,), eps=1e-05, elementwise_affine=True)\n                (fc1): Linear(in_features=768, out_features=3072, bias=True)\n                (fc2): Linear(in_features=3072, out_features=768, bias=True)\n                (final_layer_norm): LayerNorm((768,), eps=1e-05, elementwise_affine=True)\n              )\n              (6): TransformerSentenceEncoderLayer(\n                (self_attn): MultiheadAttention(\n                  (dropout_module): FairseqDropout()\n                  (k_proj): Linear(in_features=768, out_features=768, bias=True)\n                  (v_proj): Linear(in_features=768, out_features=768, bias=True)\n                  (q_proj): Linear(in_features=768, out_features=768, bias=True)\n                  (out_proj): Linear(in_features=768, out_features=768, bias=True)\n                )\n                (dropout1): Dropout(p=0.1, inplace=False)\n                (dropout2): Dropout(p=0.0, inplace=False)\n                (dropout3): Dropout(p=0.1, inplace=False)\n                (self_attn_layer_norm): LayerNorm((768,), eps=1e-05, elementwise_affine=True)\n                (fc1): Linear(in_features=768, out_features=3072, bias=True)\n                (fc2): Linear(in_features=3072, out_features=768, bias=True)\n                (final_layer_norm): LayerNorm((768,), eps=1e-05, elementwise_affine=True)\n              )\n              (7): TransformerSentenceEncoderLayer(\n                (self_attn): MultiheadAttention(\n                  (dropout_module): FairseqDropout()\n                  (k_proj): Linear(in_features=768, out_features=768, bias=True)\n                  (v_proj): Linear(in_features=768, out_features=768, bias=True)\n                  (q_proj): Linear(in_features=768, out_features=768, bias=True)\n                  (out_proj): Linear(in_features=768, out_features=768, bias=True)\n                )\n                (dropout1): Dropout(p=0.1, inplace=False)\n                (dropout2): Dropout(p=0.0, inplace=False)\n                (dropout3): Dropout(p=0.1, inplace=False)\n                (self_attn_layer_norm): LayerNorm((768,), eps=1e-05, elementwise_affine=True)\n                (fc1): Linear(in_features=768, out_features=3072, bias=True)\n                (fc2): Linear(in_features=3072, out_features=768, bias=True)\n                (final_layer_norm): LayerNorm((768,), eps=1e-05, elementwise_affine=True)\n              )\n              (8): TransformerSentenceEncoderLayer(\n                (self_attn): MultiheadAttention(\n                  (dropout_module): FairseqDropout()\n                  (k_proj): Linear(in_features=768, out_features=768, bias=True)\n                  (v_proj): Linear(in_features=768, out_features=768, bias=True)\n                  (q_proj): Linear(in_features=768, out_features=768, bias=True)\n                  (out_proj): Linear(in_features=768, out_features=768, bias=True)\n                )\n                (dropout1): Dropout(p=0.1, inplace=False)\n                (dropout2): Dropout(p=0.0, inplace=False)\n                (dropout3): Dropout(p=0.1, inplace=False)\n                (self_attn_layer_norm): LayerNorm((768,), eps=1e-05, elementwise_affine=True)\n                (fc1): Linear(in_features=768, out_features=3072, bias=True)\n                (fc2): Linear(in_features=3072, out_features=768, bias=True)\n                (final_layer_norm): LayerNorm((768,), eps=1e-05, elementwise_affine=True)\n              )\n              (9): TransformerSentenceEncoderLayer(\n                (self_attn): MultiheadAttention(\n                  (dropout_module): FairseqDropout()\n                  (k_proj): Linear(in_features=768, out_features=768, bias=True)\n                  (v_proj): Linear(in_features=768, out_features=768, bias=True)\n                  (q_proj): Linear(in_features=768, out_features=768, bias=True)\n                  (out_proj): Linear(in_features=768, out_features=768, bias=True)\n                )\n                (dropout1): Dropout(p=0.1, inplace=False)\n                (dropout2): Dropout(p=0.0, inplace=False)\n                (dropout3): Dropout(p=0.1, inplace=False)\n                (self_attn_layer_norm): LayerNorm((768,), eps=1e-05, elementwise_affine=True)\n                (fc1): Linear(in_features=768, out_features=3072, bias=True)\n                (fc2): Linear(in_features=3072, out_features=768, bias=True)\n                (final_layer_norm): LayerNorm((768,), eps=1e-05, elementwise_affine=True)\n              )\n              (10): TransformerSentenceEncoderLayer(\n                (self_attn): MultiheadAttention(\n                  (dropout_module): FairseqDropout()\n                  (k_proj): Linear(in_features=768, out_features=768, bias=True)\n                  (v_proj): Linear(in_features=768, out_features=768, bias=True)\n                  (q_proj): Linear(in_features=768, out_features=768, bias=True)\n                  (out_proj): Linear(in_features=768, out_features=768, bias=True)\n                )\n                (dropout1): Dropout(p=0.1, inplace=False)\n                (dropout2): Dropout(p=0.0, inplace=False)\n                (dropout3): Dropout(p=0.1, inplace=False)\n                (self_attn_layer_norm): LayerNorm((768,), eps=1e-05, elementwise_affine=True)\n                (fc1): Linear(in_features=768, out_features=3072, bias=True)\n                (fc2): Linear(in_features=3072, out_features=768, bias=True)\n                (final_layer_norm): LayerNorm((768,), eps=1e-05, elementwise_affine=True)\n              )\n              (11): TransformerSentenceEncoderLayer(\n                (self_attn): MultiheadAttention(\n                  (dropout_module): FairseqDropout()\n                  (k_proj): Linear(in_features=768, out_features=768, bias=True)\n                  (v_proj): Linear(in_features=768, out_features=768, bias=True)\n                  (q_proj): Linear(in_features=768, out_features=768, bias=True)\n                  (out_proj): Linear(in_features=768, out_features=768, bias=True)\n                )\n                (dropout1): Dropout(p=0.1, inplace=False)\n                (dropout2): Dropout(p=0.0, inplace=False)\n                (dropout3): Dropout(p=0.1, inplace=False)\n                (self_attn_layer_norm): LayerNorm((768,), eps=1e-05, elementwise_affine=True)\n                (fc1): Linear(in_features=768, out_features=3072, bias=True)\n                (fc2): Linear(in_features=3072, out_features=768, bias=True)\n                (final_layer_norm): LayerNorm((768,), eps=1e-05, elementwise_affine=True)\n              )\n            )\n            (layer_norm): LayerNorm((768,), eps=1e-05, elementwise_affine=True)\n          )\n          (layer_norm): LayerNorm((512,), eps=1e-05, elementwise_affine=True)\n          (final_proj): None\n        )\n        (final_dropout): Dropout(p=0.0, inplace=False)\n      )\n      (ctc_proj): Linear(in_features=512, out_features=10000, bias=True)\n      (cif_proj): Linear(in_features=512, out_features=10000, bias=True)\n      (subsample_audio): Conv1dSubsampler(\n        (conv_layers): ModuleList(\n          (0): Conv1d(768, 1024, kernel_size=(5,), stride=(2,), padding=(2,))\n          (1): Conv1d(512, 1024, kernel_size=(5,), stride=(2,), padding=(2,))\n        )\n      )\n      (cif_layer): CIFLayer(\n        (weight_predictor): WeightPredictor(\n          (conv): Conv1d(512, 512, kernel_size=(3,), stride=(1,), padding=same)\n          (layer_norm): LayerNorm((512,), eps=1e-05, elementwise_affine=True)\n          (dropout): Dropout(p=0.1, inplace=True)\n          (proj): Linear(in_features=512, out_features=1, bias=True)\n          (gelu): GELU(approximate='none')\n          (self_attention): MultiheadAttention(\n            (dropout_module): FairseqDropout()\n            (k_proj): Linear(in_features=512, out_features=512, bias=True)\n            (v_proj): Linear(in_features=512, out_features=512, bias=True)\n            (q_proj): Linear(in_features=512, out_features=512, bias=True)\n            (out_proj): Linear(in_features=512, out_features=512, bias=True)\n          )\n        )\n      )\n    )\n    (positional_embed): SinusoidalPositionalEmbedding()\n    (transformer_layers): ModuleList(\n      (0): TransformerEncoderLayer(\n        (self_attn): MultiheadAttention(\n          (dropout_module): FairseqDropout()\n          (k_proj): Linear(in_features=512, out_features=512, bias=True)\n          (v_proj): Linear(in_features=512, out_features=512, bias=True)\n          (q_proj): Linear(in_features=512, out_features=512, bias=True)\n          (out_proj): Linear(in_features=512, out_features=512, bias=True)\n        )\n        (self_attn_layer_norm): LayerNorm((512,), eps=1e-05, elementwise_affine=True)\n        (dropout_module): FairseqDropout()\n        (activation_dropout_module): FairseqDropout()\n        (fc1): Linear(in_features=512, out_features=2048, bias=True)\n        (fc2): Linear(in_features=2048, out_features=512, bias=True)\n        (final_layer_norm): LayerNorm((512,), eps=1e-05, elementwise_affine=True)\n      )\n      (1): TransformerEncoderLayer(\n        (self_attn): MultiheadAttention(\n          (dropout_module): FairseqDropout()\n          (k_proj): Linear(in_features=512, out_features=512, bias=True)\n          (v_proj): Linear(in_features=512, out_features=512, bias=True)\n          (q_proj): Linear(in_features=512, out_features=512, bias=True)\n          (out_proj): Linear(in_features=512, out_features=512, bias=True)\n        )\n        (self_attn_layer_norm): LayerNorm((512,), eps=1e-05, elementwise_affine=True)\n        (dropout_module): FairseqDropout()\n        (activation_dropout_module): FairseqDropout()\n        (fc1): Linear(in_features=512, out_features=2048, bias=True)\n        (fc2): Linear(in_features=2048, out_features=512, bias=True)\n        (final_layer_norm): LayerNorm((512,), eps=1e-05, elementwise_affine=True)\n      )\n      (2): TransformerEncoderLayer(\n        (self_attn): MultiheadAttention(\n          (dropout_module): FairseqDropout()\n          (k_proj): Linear(in_features=512, out_features=512, bias=True)\n          (v_proj): Linear(in_features=512, out_features=512, bias=True)\n          (q_proj): Linear(in_features=512, out_features=512, bias=True)\n          (out_proj): Linear(in_features=512, out_features=512, bias=True)\n        )\n        (self_attn_layer_norm): LayerNorm((512,), eps=1e-05, elementwise_affine=True)\n        (dropout_module): FairseqDropout()\n        (activation_dropout_module): FairseqDropout()\n        (fc1): Linear(in_features=512, out_features=2048, bias=True)\n        (fc2): Linear(in_features=2048, out_features=512, bias=True)\n        (final_layer_norm): LayerNorm((512,), eps=1e-05, elementwise_affine=True)\n      )\n      (3): TransformerEncoderLayer(\n        (self_attn): MultiheadAttention(\n          (dropout_module): FairseqDropout()\n          (k_proj): Linear(in_features=512, out_features=512, bias=True)\n          (v_proj): Linear(in_features=512, out_features=512, bias=True)\n          (q_proj): Linear(in_features=512, out_features=512, bias=True)\n          (out_proj): Linear(in_features=512, out_features=512, bias=True)\n        )\n        (self_attn_layer_norm): LayerNorm((512,), eps=1e-05, elementwise_affine=True)\n        (dropout_module): FairseqDropout()\n        (activation_dropout_module): FairseqDropout()\n        (fc1): Linear(in_features=512, out_features=2048, bias=True)\n        (fc2): Linear(in_features=2048, out_features=512, bias=True)\n        (final_layer_norm): LayerNorm((512,), eps=1e-05, elementwise_affine=True)\n      )\n      (4): TransformerEncoderLayer(\n        (self_attn): MultiheadAttention(\n          (dropout_module): FairseqDropout()\n          (k_proj): Linear(in_features=512, out_features=512, bias=True)\n          (v_proj): Linear(in_features=512, out_features=512, bias=True)\n          (q_proj): Linear(in_features=512, out_features=512, bias=True)\n          (out_proj): Linear(in_features=512, out_features=512, bias=True)\n        )\n        (self_attn_layer_norm): LayerNorm((512,), eps=1e-05, elementwise_affine=True)\n        (dropout_module): FairseqDropout()\n        (activation_dropout_module): FairseqDropout()\n        (fc1): Linear(in_features=512, out_features=2048, bias=True)\n        (fc2): Linear(in_features=2048, out_features=512, bias=True)\n        (final_layer_norm): LayerNorm((512,), eps=1e-05, elementwise_affine=True)\n      )\n      (5): TransformerEncoderLayer(\n        (self_attn): MultiheadAttention(\n          (dropout_module): FairseqDropout()\n          (k_proj): Linear(in_features=512, out_features=512, bias=True)\n          (v_proj): Linear(in_features=512, out_features=512, bias=True)\n          (q_proj): Linear(in_features=512, out_features=512, bias=True)\n          (out_proj): Linear(in_features=512, out_features=512, bias=True)\n        )\n        (self_attn_layer_norm): LayerNorm((512,), eps=1e-05, elementwise_affine=True)\n        (dropout_module): FairseqDropout()\n        (activation_dropout_module): FairseqDropout()\n        (fc1): Linear(in_features=512, out_features=2048, bias=True)\n        (fc2): Linear(in_features=2048, out_features=512, bias=True)\n        (final_layer_norm): LayerNorm((512,), eps=1e-05, elementwise_affine=True)\n      )\n    )\n    (layer_norm): LayerNorm((512,), eps=1e-05, elementwise_affine=True)\n  )\n  (decoder): TransformerDecoder(\n    (dropout_module): FairseqDropout()\n    (embed_tokens): Embedding(10000, 512, padding_idx=1)\n    (embed_positions): SinusoidalPositionalEmbedding()\n    (layers): ModuleList(\n      (0): TransformerDecoderLayerBase(\n        (dropout_module): FairseqDropout()\n        (self_attn): MultiheadAttention(\n          (dropout_module): FairseqDropout()\n          (k_proj): Linear(in_features=512, out_features=512, bias=True)\n          (v_proj): Linear(in_features=512, out_features=512, bias=True)\n          (q_proj): Linear(in_features=512, out_features=512, bias=True)\n          (out_proj): Linear(in_features=512, out_features=512, bias=True)\n        )\n        (activation_dropout_module): FairseqDropout()\n        (self_attn_layer_norm): LayerNorm((512,), eps=1e-05, elementwise_affine=True)\n        (encoder_attn): MultiheadAttention(\n          (dropout_module): FairseqDropout()\n          (k_proj): Linear(in_features=512, out_features=512, bias=True)\n          (v_proj): Linear(in_features=512, out_features=512, bias=True)\n          (q_proj): Linear(in_features=512, out_features=512, bias=True)\n          (out_proj): Linear(in_features=512, out_features=512, bias=True)\n        )\n        (encoder_attn_layer_norm): LayerNorm((512,), eps=1e-05, elementwise_affine=True)\n        (fc1): Linear(in_features=512, out_features=2048, bias=True)\n        (fc2): Linear(in_features=2048, out_features=512, bias=True)\n        (final_layer_norm): LayerNorm((512,), eps=1e-05, elementwise_affine=True)\n      )\n      (1): TransformerDecoderLayerBase(\n        (dropout_module): FairseqDropout()\n        (self_attn): MultiheadAttention(\n          (dropout_module): FairseqDropout()\n          (k_proj): Linear(in_features=512, out_features=512, bias=True)\n          (v_proj): Linear(in_features=512, out_features=512, bias=True)\n          (q_proj): Linear(in_features=512, out_features=512, bias=True)\n          (out_proj): Linear(in_features=512, out_features=512, bias=True)\n        )\n        (activation_dropout_module): FairseqDropout()\n        (self_attn_layer_norm): LayerNorm((512,), eps=1e-05, elementwise_affine=True)\n        (encoder_attn): MultiheadAttention(\n          (dropout_module): FairseqDropout()\n          (k_proj): Linear(in_features=512, out_features=512, bias=True)\n          (v_proj): Linear(in_features=512, out_features=512, bias=True)\n          (q_proj): Linear(in_features=512, out_features=512, bias=True)\n          (out_proj): Linear(in_features=512, out_features=512, bias=True)\n        )\n        (encoder_attn_layer_norm): LayerNorm((512,), eps=1e-05, elementwise_affine=True)\n        (fc1): Linear(in_features=512, out_features=2048, bias=True)\n        (fc2): Linear(in_features=2048, out_features=512, bias=True)\n        (final_layer_norm): LayerNorm((512,), eps=1e-05, elementwise_affine=True)\n      )\n      (2): TransformerDecoderLayerBase(\n        (dropout_module): FairseqDropout()\n        (self_attn): MultiheadAttention(\n          (dropout_module): FairseqDropout()\n          (k_proj): Linear(in_features=512, out_features=512, bias=True)\n          (v_proj): Linear(in_features=512, out_features=512, bias=True)\n          (q_proj): Linear(in_features=512, out_features=512, bias=True)\n          (out_proj): Linear(in_features=512, out_features=512, bias=True)\n        )\n        (activation_dropout_module): FairseqDropout()\n        (self_attn_layer_norm): LayerNorm((512,), eps=1e-05, elementwise_affine=True)\n        (encoder_attn): MultiheadAttention(\n          (dropout_module): FairseqDropout()\n          (k_proj): Linear(in_features=512, out_features=512, bias=True)\n          (v_proj): Linear(in_features=512, out_features=512, bias=True)\n          (q_proj): Linear(in_features=512, out_features=512, bias=True)\n          (out_proj): Linear(in_features=512, out_features=512, bias=True)\n        )\n        (encoder_attn_layer_norm): LayerNorm((512,), eps=1e-05, elementwise_affine=True)\n        (fc1): Linear(in_features=512, out_features=2048, bias=True)\n        (fc2): Linear(in_features=2048, out_features=512, bias=True)\n        (final_layer_norm): LayerNorm((512,), eps=1e-05, elementwise_affine=True)\n      )\n      (3): TransformerDecoderLayerBase(\n        (dropout_module): FairseqDropout()\n        (self_attn): MultiheadAttention(\n          (dropout_module): FairseqDropout()\n          (k_proj): Linear(in_features=512, out_features=512, bias=True)\n          (v_proj): Linear(in_features=512, out_features=512, bias=True)\n          (q_proj): Linear(in_features=512, out_features=512, bias=True)\n          (out_proj): Linear(in_features=512, out_features=512, bias=True)\n        )\n        (activation_dropout_module): FairseqDropout()\n        (self_attn_layer_norm): LayerNorm((512,), eps=1e-05, elementwise_affine=True)\n        (encoder_attn): MultiheadAttention(\n          (dropout_module): FairseqDropout()\n          (k_proj): Linear(in_features=512, out_features=512, bias=True)\n          (v_proj): Linear(in_features=512, out_features=512, bias=True)\n          (q_proj): Linear(in_features=512, out_features=512, bias=True)\n          (out_proj): Linear(in_features=512, out_features=512, bias=True)\n        )\n        (encoder_attn_layer_norm): LayerNorm((512,), eps=1e-05, elementwise_affine=True)\n        (fc1): Linear(in_features=512, out_features=2048, bias=True)\n        (fc2): Linear(in_features=2048, out_features=512, bias=True)\n        (final_layer_norm): LayerNorm((512,), eps=1e-05, elementwise_affine=True)\n      )\n      (4): TransformerDecoderLayerBase(\n        (dropout_module): FairseqDropout()\n        (self_attn): MultiheadAttention(\n          (dropout_module): FairseqDropout()\n          (k_proj): Linear(in_features=512, out_features=512, bias=True)\n          (v_proj): Linear(in_features=512, out_features=512, bias=True)\n          (q_proj): Linear(in_features=512, out_features=512, bias=True)\n          (out_proj): Linear(in_features=512, out_features=512, bias=True)\n        )\n        (activation_dropout_module): FairseqDropout()\n        (self_attn_layer_norm): LayerNorm((512,), eps=1e-05, elementwise_affine=True)\n        (encoder_attn): MultiheadAttention(\n          (dropout_module): FairseqDropout()\n          (k_proj): Linear(in_features=512, out_features=512, bias=True)\n          (v_proj): Linear(in_features=512, out_features=512, bias=True)\n          (q_proj): Linear(in_features=512, out_features=512, bias=True)\n          (out_proj): Linear(in_features=512, out_features=512, bias=True)\n        )\n        (encoder_attn_layer_norm): LayerNorm((512,), eps=1e-05, elementwise_affine=True)\n        (fc1): Linear(in_features=512, out_features=2048, bias=True)\n        (fc2): Linear(in_features=2048, out_features=512, bias=True)\n        (final_layer_norm): LayerNorm((512,), eps=1e-05, elementwise_affine=True)\n      )\n      (5): TransformerDecoderLayerBase(\n        (dropout_module): FairseqDropout()\n        (self_attn): MultiheadAttention(\n          (dropout_module): FairseqDropout()\n          (k_proj): Linear(in_features=512, out_features=512, bias=True)\n          (v_proj): Linear(in_features=512, out_features=512, bias=True)\n          (q_proj): Linear(in_features=512, out_features=512, bias=True)\n          (out_proj): Linear(in_features=512, out_features=512, bias=True)\n        )\n        (activation_dropout_module): FairseqDropout()\n        (self_attn_layer_norm): LayerNorm((512,), eps=1e-05, elementwise_affine=True)\n        (encoder_attn): MultiheadAttention(\n          (dropout_module): FairseqDropout()\n          (k_proj): Linear(in_features=512, out_features=512, bias=True)\n          (v_proj): Linear(in_features=512, out_features=512, bias=True)\n          (q_proj): Linear(in_features=512, out_features=512, bias=True)\n          (out_proj): Linear(in_features=512, out_features=512, bias=True)\n        )\n        (encoder_attn_layer_norm): LayerNorm((512,), eps=1e-05, elementwise_affine=True)\n        (fc1): Linear(in_features=512, out_features=2048, bias=True)\n        (fc2): Linear(in_features=2048, out_features=512, bias=True)\n        (final_layer_norm): LayerNorm((512,), eps=1e-05, elementwise_affine=True)\n      )\n    )\n    (layer_norm): LayerNorm((512,), eps=1e-05, elementwise_affine=True)\n    (output_projection): Linear(in_features=512, out_features=10000, bias=False)\n  )\n)"
     },
     "execution_count": 30,
     "metadata": {},
     "output_type": "execute_result"
    }
   ],
   "source": [
    "# Load dataset\n",
    "itr = task.get_batch_iterator(\n",
    "    dataset=task.dataset(cfg.dataset.gen_subset),\n",
    "    max_tokens=cfg.dataset.max_tokens,\n",
    "    max_sentences=cfg.dataset.batch_size,\n",
    "    ignore_invalid_inputs=cfg.dataset.skip_invalid_size_inputs_valid_test,\n",
    "    required_batch_size_multiple=cfg.dataset.required_batch_size_multiple,\n",
    "    seed=cfg.common.seed,\n",
    "    num_shards=cfg.distributed_training.distributed_world_size,\n",
    "    shard_id=cfg.distributed_training.distributed_rank,\n",
    "    num_workers=cfg.dataset.num_workers,\n",
    "    data_buffer_size=cfg.dataset.data_buffer_size,\n",
    ").next_epoch_itr(shuffle=False)\n",
    "progress = progress_bar.progress_bar(\n",
    "    itr,\n",
    "    log_format=cfg.common.log_format,\n",
    "    log_interval=cfg.common.log_interval,\n",
    "    default_log_format=(\"tqdm\" if not cfg.common.no_progress_bar else \"simple\"),\n",
    ")\n",
    "if cfg.common.fp16:\n",
    "    st_model.half()\n",
    "if torch.cuda.is_available():\n",
    "    st_model.cuda()\n",
    "st_model.eval()"
   ],
   "metadata": {
    "collapsed": false,
    "ExecuteTime": {
     "end_time": "2024-02-26T12:53:46.622083Z",
     "start_time": "2024-02-26T12:53:46.389004Z"
    }
   },
   "id": "e7f918c006f2ad29"
  },
  {
   "cell_type": "code",
   "execution_count": 31,
   "outputs": [],
   "source": [
    "sentence_sim_result = np.empty((0,))\n",
    "for sample in progress:\n",
    "    sample = utils.move_to_cuda(sample)\n",
    "    with torch.no_grad():\n",
    "        # speech repr\n",
    "        speech_repr = st_model.encoder(\n",
    "            sample['net_input']['src_tokens'],\n",
    "            sample['net_input']['src_lengths'],\n",
    "            sample['net_input']['transcript_lengths'],\n",
    "            is_audio_input=True\n",
    "        )['encoder_out'][0].transpose(0, 1)  # B T C\n",
    "        # text repr\n",
    "        text_repr = st_model.encoder(\n",
    "            sample['source'],\n",
    "            sample['source_lengths'],\n",
    "            transcript_lengths=None,\n",
    "            is_audio_input=False\n",
    "        )['encoder_out'][0].transpose(0, 1)\n",
    "        tok_sim = torch.nn.functional.cosine_similarity(speech_repr, text_repr, dim=-1)  # B T\n",
    "        sentence_sim = tok_sim.mean(dim=-1).cpu().numpy()\n",
    "        sentence_sim_result = np.append(sentence_sim_result, sentence_sim, axis=0)\n",
    "        "
   ],
   "metadata": {
    "collapsed": false,
    "ExecuteTime": {
     "end_time": "2024-02-26T12:55:43.317756Z",
     "start_time": "2024-02-26T12:53:46.621058Z"
    }
   },
   "id": "1591ab13fab5237b"
  },
  {
   "cell_type": "code",
   "execution_count": 32,
   "outputs": [
    {
     "name": "stdout",
     "output_type": "stream",
     "text": [
      "[0.70973051 0.78528988 0.74959624 ... 0.63203013 0.45341763 0.54352778]\n"
     ]
    }
   ],
   "source": [
    "print(sentence_sim_result)"
   ],
   "metadata": {
    "collapsed": false,
    "ExecuteTime": {
     "end_time": "2024-02-26T12:55:43.405119Z",
     "start_time": "2024-02-26T12:55:43.363022Z"
    }
   },
   "id": "a0bc163e2a2eae1"
  },
  {
   "cell_type": "markdown",
   "source": [],
   "metadata": {
    "collapsed": false
   },
   "id": "46a5615a0d12b950"
  },
  {
   "cell_type": "code",
   "execution_count": 34,
   "outputs": [
    {
     "name": "stderr",
     "output_type": "stream",
     "text": [
      "2024-02-26 13:01:12 | INFO | matplotlib.font_manager | generated new fontManager\n"
     ]
    },
    {
     "data": {
      "text/plain": "<Axes: ylabel='Density'>"
     },
     "execution_count": 34,
     "metadata": {},
     "output_type": "execute_result"
    },
    {
     "data": {
      "text/plain": "<Figure size 640x480 with 1 Axes>",
      "image/png": "[encoded data removed]"
     },
     "metadata": {},
     "output_type": "display_data"
    }
   ],
   "source": [
    "import matplotlib.pyplot as plt\n",
    "import seaborn as sns\n",
    "sns.kdeplot(data=sentence_sim_result, label=\"tst\", fill=False)"
   ],
   "metadata": {
    "collapsed": false,
    "ExecuteTime": {
     "end_time": "2024-02-26T13:01:42.070934Z",
     "start_time": "2024-02-26T13:01:31.144241Z"
    }
   },
   "id": "ad8f7505e3731e3c"
  },
  {
   "cell_type": "code",
   "execution_count": 35,
   "outputs": [
    {
     "name": "stdout",
     "output_type": "stream",
     "text": [
      "mean value: 0.6424015708602288\n"
     ]
    }
   ],
   "source": [
    "print('mean value:', np.mean(sentence_sim_result))"
   ],
   "metadata": {
    "collapsed": false,
    "ExecuteTime": {
     "end_time": "2024-02-26T13:04:53.234361Z",
     "start_time": "2024-02-26T13:04:53.085174Z"
    }
   },
   "id": "89fbddb88f798a46"
  }
 ],
 "metadata": {
  "kernelspec": {
   "name": "st",
   "language": "python",
   "display_name": "ST"
  },
  "language_info": {
   "codemirror_mode": {
    "name": "ipython",
    "version": 2
   },
   "file_extension": ".py",
   "mimetype": "text/x-python",
   "name": "python",
   "nbconvert_exporter": "python",
   "pygments_lexer": "ipython2",
   "version": "2.7.6"
  }
 },
 "nbformat": 4,
 "nbformat_minor": 5
}
